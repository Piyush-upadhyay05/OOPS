{
 "cells": [
  {
   "cell_type": "markdown",
   "metadata": {},
   "source": [
    "### ATTRIBUTES AND METHOD\n",
    "#### 1. Attributes in Python:\n",
    "##### What Are Attributes?\n",
    "- Attributes are variables that store data associated with an object or class\n",
    "- They represent the state or properties of an object.\n",
    "- Attributes are defined using the self keyword inside a class and are specific to each object.\n"
   ]
  },
  {
   "cell_type": "markdown",
   "metadata": {},
   "source": [
    "#### Types of Attributes:-\n",
    "##### 1.Instance attributes\n",
    "- Attributes that are specific to a particular object.\n",
    "- They are defined within methods, usually the __init__ method, using self\n",
    "- EXAMPLE:\n",
    "```class Person:\n",
    "    def __init__(self, name, age):\n",
    "        self.name = name  # Instance attribute\n",
    "        self.age = age    # Instance attribute\n",
    "\n",
    "         p1 = Person(\"Alice\", 25)\n",
    "         p2 = Person(\"Bob\", 30)\n",
    "\n",
    "         print(p1.name)  # Output: Alice\n",
    "         print(p2.age)   # Output: 30\n",
    " ```\n",
    " ##### 2.Class Attributes:\n",
    "- Attributes that are shared across all objects of a class.\n",
    "- They are defined directly in the class body and accessed using the class name or an object.\n",
    "``` class Dog:\n",
    "    species = \"Canine\"  # Class attribute\n",
    "\n",
    "    def __init__(self, name):\n",
    "        self.name = name  # Instance attribute\n",
    "\n",
    "    d1 = Dog(\"Buddy\")\n",
    "    d2 = Dog(\"Max\")\n",
    "\n",
    "    print(Dog.species)  # Output: Canine\n",
    "    print(d1.species)   # Output: Canine\n",
    "    print(d2.species)   # Output: Canine\n",
    "```\n",
    "#### Accessing and modifying attributes:\n",
    "- ACCESS"
   ]
  },
  {
   "cell_type": "code",
   "execution_count": null,
   "metadata": {},
   "outputs": [],
   "source": [
    "print(object.attributes)"
   ]
  },
  {
   "cell_type": "markdown",
   "metadata": {},
   "source": [
    "- MODIFYING"
   ]
  },
  {
   "cell_type": "code",
   "execution_count": null,
   "metadata": {},
   "outputs": [],
   "source": [
    "object.attribute = new_value"
   ]
  },
  {
   "cell_type": "markdown",
   "metadata": {},
   "source": [
    "- EXAMPLE:\n",
    "``` p = Person(\"Alice\", 25)\n",
    "   print(p.age)  \n",
    "   p.age = 26    \n",
    "   print(p.age)\n",
    "```"
   ]
  }
 ],
 "metadata": {
  "kernelspec": {
   "display_name": "Python 3",
   "language": "python",
   "name": "python3"
  },
  "language_info": {
   "codemirror_mode": {
    "name": "ipython",
    "version": 3
   },
   "file_extension": ".py",
   "mimetype": "text/x-python",
   "name": "python",
   "nbconvert_exporter": "python",
   "pygments_lexer": "ipython3",
   "version": "3.12.7"
  }
 },
 "nbformat": 4,
 "nbformat_minor": 2
}
