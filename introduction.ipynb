{
 "cells": [
  {
   "cell_type": "markdown",
   "metadata": {},
   "source": [
    "# introduction\n",
    "### what is oops?\n",
    "Object-Oriented Programming (OOP) is a way of designing and organizing software where data and behaviors (functions) are grouped into objects. It helps in organizing code by using real-world concepts like classes, objects, inheritance, and polymorphism.\n",
    "### EXPLAIN PROGRAMMING PARADIGM ?\n",
    "- it is a way or style of writing computer program.\n",
    "- it is as  different approches to solving problems with code.\n",
    "###### EXAMPLES:\n",
    "- procederal programming - focuses on writing step by step instructions \n",
    "- oop - focuses on organizuing code into objcts that represents real world things\n",
    "- functional programming - focuses on writng code using functions that avoid changing data "
   ]
  },
  {
   "cell_type": "markdown",
   "metadata": {},
   "source": [
    "### DIFF. BTW PROCEDERAL PROGRAMMING AND OBJECT ORIENTED PROGRAMMING.\n",
    "###### Procederal programming:-\n",
    "- Def &nbsp;&nbsp;&nbsp;=&nbsp;&nbsp;&nbsp; A programming style where the program is built as a sequence of steps or instructions \n",
    "- Focus &nbsp;&nbsp;&nbsp;= &nbsp;&nbsp;&nbsp;focuses on function and the sequence of actions \n",
    "- Data and function &nbsp;&nbsp;&nbsp;=&nbsp;&nbsp;&nbsp; data and function are seprate\n",
    "- Modularity &nbsp;&nbsp;&nbsp;=&nbsp;&nbsp;&nbsp; programs are divided into function\n",
    "- Data security &nbsp;&nbsp;&nbsp;= &nbsp;&nbsp;&nbsp;data is usually global and share among functions, making it less secure.\n",
    "- Reusability &nbsp;&nbsp;&nbsp;= &nbsp;&nbsp;&nbsp;code reusability is limited functioins need to be re written for new use cases.\n",
    "- Scalability &nbsp;&nbsp;&nbsp;= &nbsp;&nbsp;&nbsp;harder to manage and scale as the program grows larger. \n",
    "- Example &nbsp;&nbsp;&nbsp;= &nbsp;&nbsp;&nbsp;language C , fortan \n",
    "- Real-world modeling &nbsp;&nbsp;&nbsp;= &nbsp;&nbsp;&nbsp;difficult to model real world entities \n",
    "- flexibility &nbsp;&nbsp;&nbsp;=&nbsp;&nbsp;&nbsp; adding new functionality can be complex \n",
    "- Example in code &nbsp;&nbsp;&nbsp;=&nbsp;&nbsp;&nbsp; a function can calculate the area of triangle area(length , width) \n",
    "###### Object oriented programming:-\n",
    "- Def &nbsp;&nbsp;&nbsp;&nbsp; = A programming language whare the program is built using object that combine data and behaviour\n",
    "- focus &nbsp;&nbsp;&nbsp; = &nbsp;&nbsp;focus on object and their interaction.\n",
    "- Data and function &nbsp;&nbsp;&nbsp; = &nbsp;&nbsp; data and function are combined into object.\n",
    "- Modularity &nbsp;&nbsp;&nbsp; = programs are divided into classes and object.\n",
    "- Data security &nbsp;&nbsp;&nbsp;&nbsp;= data is hidden using encapsulation making it more secure .\n",
    "- Reusability&nbsp;&nbsp;&nbsp;&nbsp; = promotes code reuse through inheritance and polymorphism.\n",
    "- scalability &nbsp;&nbsp;&nbsp;&nbsp; = easier to scale because of modular design and reuseability.\n",
    "- Example &nbsp;&nbsp;&nbsp;&nbsp;= language python , c++,java\n",
    "- Real world modeling &nbsp;&nbsp;&nbsp;&nbsp;= easily models real world entities using classes and object\n",
    "- Flexibility &nbsp;&nbsp;&nbsp;&nbsp; = adding new functionality is easier due to oop principles \n",
    "- Example in code &nbsp;&nbsp;&nbsp;&nbsp; = a classs represents a rectangle with length and width as properties and an area() method .\n",
    "\n"
   ]
  },
  {
   "cell_type": "markdown",
   "metadata": {},
   "source": [
    "# FEATURES OF OOPS -\n",
    "- ## modularity:\n",
    "Modularity is a software design principle that involves breaking down a system or program into smaller, independent, and manageable parts called modules.\n",
    "- ## scalability:\n",
    "Scalability in Object-Oriented Programming (OOP) refers to the ability of a software system to handle growth effectively, either by managing increasing amounts of data or by adding new features without requiring major changes to the existing code.\n",
    "- ## data security:\n",
    "data security means keeping the data inside a class safe by controlling who can see or change it, using tools like private variables and public methods.\n",
    "- ## real-world modeling:\n",
    "Real-world modeling in Object-Oriented Programming (OOP) refers to designing software that reflects the structure and behavior of real-world entities. It involves using classes and objects to represent things like people, places, processes, or systems, making it intuitive and easier to understand and develop.\n",
    "- ## example in code:\n",
    "```class Dog:\n",
    "    # Constructor to initialize object properties\n",
    "    def __init__(self, name, breed, age):\n",
    "        self.name = name\n",
    "        self.breed = breed\n",
    "        self.age = age\n",
    "\n",
    "    # Method to describe the dog\n",
    "    def describe(self):\n",
    "        return f\"My dog {self.name} is a {self.breed} and is {self.age} years old.\"\n",
    "\n",
    "    # Method to simulate the dog barking\n",
    "    def bark(self):\n",
    "        return f\"{self.name} says Woof Woof!\"\n",
    "\n",
    "    # Create objects of the Dog class\n",
    "    dog1 = Dog(\"Buddy\", \"Golden Retriever\", 3)\n",
    "    dog2 = Dog(\"Luna\", \"Beagle\", 5)\n",
    "\n",
    "    # Access methods of the objects\n",
    "    print(dog1.describe())  # Describe dog1\n",
    "    print(dog1.bark())      # Dog1 barks\n",
    "\n",
    "    print(dog2.describe())  # Describe dog2\n",
    "    print(dog2.bark())      # Dog2 barks\n",
    "\n",
    "```"
   ]
  }
 ],
 "metadata": {
  "kernelspec": {
   "display_name": "Python 3",
   "language": "python",
   "name": "python3"
  },
  "language_info": {
   "codemirror_mode": {
    "name": "ipython",
    "version": 3
   },
   "file_extension": ".py",
   "mimetype": "text/x-python",
   "name": "python",
   "nbconvert_exporter": "python",
   "pygments_lexer": "ipython3",
   "version": "3.12.7"
  }
 },
 "nbformat": 4,
 "nbformat_minor": 2
}
