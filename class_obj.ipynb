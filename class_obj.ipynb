{
 "cells": [
  {
   "cell_type": "markdown",
   "metadata": {},
   "source": [
    "#### CLASS:\n",
    "A class in Python is a blueprint or template for creating objects. It defines the data (attributes) and actions (methods) that the objects will have."
   ]
  },
  {
   "cell_type": "code",
   "execution_count": null,
   "metadata": {},
   "outputs": [
    {
     "name": "stdout",
     "output_type": "stream",
     "text": [
      "2\n"
     ]
    }
   ],
   "source": [
    "class myclass(): # creating a class\n",
    "    x = 2\n",
    "    print(x)"
   ]
  },
  {
   "cell_type": "markdown",
   "metadata": {},
   "source": [
    "#### OBJECT:\n",
    "An object in Python is an instance of a class. It is a specific item created using a class blueprint, with its own data (attributes) and behaviors (methods)."
   ]
  },
  {
   "cell_type": "code",
   "execution_count": 2,
   "metadata": {},
   "outputs": [
    {
     "name": "stdout",
     "output_type": "stream",
     "text": [
      "2\n"
     ]
    }
   ],
   "source": [
    "p1 = myclass() # creating a object\n",
    "print(p1.x)"
   ]
  },
  {
   "cell_type": "markdown",
   "metadata": {},
   "source": [
    "#### __init__ function method:\n",
    "- The __init__() function in Python is a special method used to initialize the attributes of a class when a new object is created. \n",
    "- It is also known as the constructor because it constructs or sets up the initial state of the object.\n",
    "- When you create an object, Python automatically calls the __init__() method to set up the object’s attributes.\n",
    "##### Key Features of `__init__()` in Python\n",
    "\n",
    "1. **Automatic Execution**:  \n",
    "   - The `__init__()` function is called automatically whenever a new object is created.\n",
    "\n",
    "2. **Initializes the Object**:  \n",
    "   - It sets up the initial values (attributes) of the object during its creation.\n",
    "\n",
    "3. **`self` Parameter**:  \n",
    "   - The first parameter is always `self`, which refers to the current instance of the class.\n",
    "\n",
    "4. **Custom Parameters**:  \n",
    "   - Additional arguments can be passed to the `__init__()` method to initialize attributes with specific data.\n",
    "\n",
    "5. **Optional Defaults**:  \n",
    "   - Default values can be provided for parameters, making them optional during object creation.\n",
    "\n",
    "6. **Encapsulation**:  \n",
    "   - It encapsulates initialization logic, keeping object setup clean and organized.\n",
    "\n"
   ]
  },
  {
   "cell_type": "code",
   "execution_count": null,
   "metadata": {},
   "outputs": [],
   "source": [
    "# syntax of __init__ :\n",
    "class ClassName:\n",
    "    def __init__(self, parameters):\n",
    "        # Initialize attributes here\n",
    "        self.attribute = value"
   ]
  },
  {
   "cell_type": "markdown",
   "metadata": {},
   "source": [
    "#### how __init__ function works:"
   ]
  },
  {
   "cell_type": "code",
   "execution_count": null,
   "metadata": {},
   "outputs": [
    {
     "name": "stdout",
     "output_type": "stream",
     "text": [
      "Alice\n",
      "30\n"
     ]
    }
   ],
   "source": [
    "class Person:\n",
    "    def __init__(self, name, age):  # Constructor\n",
    "        self.name = name  # Assign name to the object\n",
    "        self.age = age    # Assign age to the object\n",
    "\n",
    "# Create objects\n",
    "person1 = Person(\"Alice\", 25)\n",
    "person2 = Person(\"Bob\", 30)\n",
    "\n",
    "# Access attributes\n",
    "print(person1.name)  \n",
    "print(person2.age)   \n"
   ]
  },
  {
   "cell_type": "markdown",
   "metadata": {},
   "source": [
    "#### Default value in __init__:"
   ]
  },
  {
   "cell_type": "code",
   "execution_count": 5,
   "metadata": {},
   "outputs": [
    {
     "name": "stdout",
     "output_type": "stream",
     "text": [
      "18\n"
     ]
    }
   ],
   "source": [
    "class Person:\n",
    "    def __init__(self, name, age=18):  # Default age is 18\n",
    "        self.name = name\n",
    "        self.age = age\n",
    "\n",
    "# Create an object without providing age\n",
    "person1 = Person(\"Alice\")\n",
    "print(person1.age) \n"
   ]
  },
  {
   "cell_type": "markdown",
   "metadata": {},
   "source": [
    "#### self KEYWORD:\n",
    "- The self keyword in Python is a special placeholder that refers to the current instance of the class.\n",
    "- It is used in the __init__ function (and other instance methods) to refer to the object that is being created or modified.\n",
    "##### self in simple terms:-\n",
    "1. **Represents the Object**: \n",
    "   - `self` is a way to refer to the specific object being created or modified.\n",
    "   - It allows the object to store and access its own data.\n",
    "\n",
    "2. **Mandatory First Parameter**:\n",
    "   - In instance methods (like `__init__`), the first parameter must be `self`.\n",
    "   - It tells Python which object the method is working on.\n",
    "\n",
    "3. **Stores Attributes for Each Object**:\n",
    "   - `self` is used to create attributes that belong to the object.\n",
    "   - These attributes are unique to each object and not shared with others."
   ]
  },
  {
   "cell_type": "markdown",
   "metadata": {},
   "source": [
    "#### Why is self Important in __init__?\n",
    "The __init__ function is used to initialize an object with specific attributes. self makes sure that each object gets its own set of attributes."
   ]
  },
  {
   "cell_type": "code",
   "execution_count": null,
   "metadata": {},
   "outputs": [],
   "source": [
    "# example without self\n",
    "class Person:\n",
    "    def __init__(name, age):  # Missing self!\n",
    "        name = name\n",
    "        age = age\n",
    "       # If you create a Person object:\n",
    "        p = Person(\"Alice\", 25)\n",
    "        print(p.name)  # This will give an error because `name` is not linked to the object."
   ]
  },
  {
   "cell_type": "code",
   "execution_count": 11,
   "metadata": {},
   "outputs": [],
   "source": [
    "#example with self\n",
    "class Person:\n",
    "    def __init__(self, name, age):\n",
    "        self.name = name  # Assign name to the object's name attribute\n",
    "        self.age = age    # Assign age to the object's age attribute\n",
    "        p = Person(\"Alice\", 25)\n",
    "        print(p.name)  # Output: Alice\n",
    "        print(p.age)   # Output: 25\n"
   ]
  }
 ],
 "metadata": {
  "kernelspec": {
   "display_name": "Python 3",
   "language": "python",
   "name": "python3"
  },
  "language_info": {
   "codemirror_mode": {
    "name": "ipython",
    "version": 3
   },
   "file_extension": ".py",
   "mimetype": "text/x-python",
   "name": "python",
   "nbconvert_exporter": "python",
   "pygments_lexer": "ipython3",
   "version": "3.12.7"
  }
 },
 "nbformat": 4,
 "nbformat_minor": 2
}
